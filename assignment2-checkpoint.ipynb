{
 "cells": [
  {
   "cell_type": "markdown",
   "metadata": {},
   "source": [
    "1.1 Write a Python Program to implement your own myreduce() function which works exactly like Python's built-in function reduce() "
   ]
  },
  {
   "cell_type": "code",
   "execution_count": 1,
   "metadata": {},
   "outputs": [],
   "source": [
    "def myreduce(fun,seq):\n",
    "    result=seq[0]\n",
    "    for i in seq[1:]:\n",
    "        result=sum(result,i)\n",
    "    return result"
   ]
  },
  {
   "cell_type": "markdown",
   "metadata": {},
   "source": [
    "1.2  Write a Python program to implement your own myfilter() function which works exactly like Python's built-in function filter() "
   ]
  },
  {
   "cell_type": "code",
   "execution_count": 2,
   "metadata": {},
   "outputs": [],
   "source": [
    "def myfilter(anyfun,list):\n",
    "    result=[]\n",
    "    for i in list:\n",
    "        if anyfun(i):\n",
    "            result.append(i)\n",
    "    return result"
   ]
  },
  {
   "cell_type": "markdown",
   "metadata": {},
   "source": [
    "2. Implement List comprehensions to produce the following lists.  "
   ]
  },
  {
   "cell_type": "code",
   "execution_count": 21,
   "metadata": {},
   "outputs": [
    {
     "name": "stdout",
     "output_type": "stream",
     "text": [
      "['A', 'C', 'A', 'D', 'G', 'I', 'L', 'D']\n",
      "['x', 'xx', 'xxx', 'xxxx', 'y', 'yy', 'yyy', 'yyyy', 'z', 'zz', 'zzz', 'zzzz']\n",
      "['x', 'y', 'z', 'xx', 'yy', 'zz', 'xx', 'yy', 'zz', 'xxxx', 'yyyy', 'zzzz']\n",
      "[[2], [3], [4], [3], [4], [5], [4], [5], [6]]\n",
      "[[2, 3, 4, 5], [3, 4, 5, 6], [4, 5, 6, 7], [5, 6, 7, 8]]\n",
      "[(1, 1), (2, 1), (3, 1), (1, 2), (2, 2), (3, 2), (1, 3), (2, 3), (3, 3)]\n"
     ]
    }
   ],
   "source": [
    "print([letter for letter in 'ACADGILD'])\n",
    "l=['x','y','z']\n",
    "l1=[l[0]*row for row in range(1,5)]\n",
    "l2=[l[1]*row for row in range(1,5)]\n",
    "l3=[l[2]*row for row in range(1,5)]\n",
    "print(l1+l2+l3)\n",
    "l1=[row for row in l]\n",
    "l2=[row*2 for row in l]\n",
    "l3=[row*2 for row in l]\n",
    "l4=[row*4 for row in l]\n",
    "print(l1+l2+l3+l4)\n",
    "result=[[i+n]for i in range(2,5) for n in range(3)]\n",
    "print(result)\n",
    "result=[[j+i for j in [2,3,4,5]] for i in range(4)]\n",
    "print(result)\n",
    "result=[(n,i)for i in range(1,4)for n in range(1,4)]\n",
    "print(result)"
   ]
  },
  {
   "cell_type": "markdown",
   "metadata": {},
   "source": [
    "3. Implement a function longestWord() that takes a list of words and returns the longest one. "
   ]
  },
  {
   "cell_type": "code",
   "execution_count": 4,
   "metadata": {},
   "outputs": [
    {
     "name": "stdout",
     "output_type": "stream",
     "text": [
      "preetsondhi\n"
     ]
    }
   ],
   "source": [
    "def longestword(list):\n",
    "    word=[]\n",
    "    for i in list:\n",
    "        word.append((len(i),i))\n",
    "        word.sort()\n",
    "    return word[-1][1]\n",
    "print(longestword((\"preety\",\"evaan\",\"pankaj\",\"preetsondhi\")))"
   ]
  },
  {
   "cell_type": "markdown",
   "metadata": {},
   "source": [
    "Write a Python Program(with class concepts) to find the area of the triangle using the below formula. \n",
    " \n",
    "area = (s*(s-a)*(s-b)*(s-c)) ** 0.5 \n",
    " \n",
    "Function to take the length of the sides of triangle from user should be defined in the parent class and function to calculate the area should be defined in subclass. "
   ]
  },
  {
   "cell_type": "code",
   "execution_count": 16,
   "metadata": {},
   "outputs": [
    {
     "name": "stdout",
     "output_type": "stream",
     "text": [
      "7.5\n"
     ]
    }
   ],
   "source": [
    "class triangle:\n",
    "    def __init__(self,a,b,c):\n",
    "        self.a=a\n",
    "        self.b=b\n",
    "        self.c=c \n",
    "class area(triangle):\n",
    "    def __init__(self,a,b,c):\n",
    "        triangle.__init__(self,a,b,c)\n",
    "        \n",
    "    def triangle_area(self):\n",
    "        s=(self.a+self.b+self.c)*0.5\n",
    "        result= (s*(s-self.a)*(s-self.b)*(s-self.c)) * 0.5 \n",
    "        return result\n",
    "tri=triangle(2,4,4)\n",
    "ob=area(2,4,4)\n",
    "print(ob.triangle_area())"
   ]
  },
  {
   "cell_type": "markdown",
   "metadata": {},
   "source": [
    "#### 1.2 Write a function filter_long_words() that takes a list of words and an integer n and returns the list of words that are longer than n"
   ]
  },
  {
   "cell_type": "code",
   "execution_count": 6,
   "metadata": {},
   "outputs": [
    {
     "name": "stdout",
     "output_type": "stream",
     "text": [
      "['preeti', 'prakriti']\n"
     ]
    }
   ],
   "source": [
    "def filter_long_words(list,n):\n",
    "    result=[]\n",
    "    for i in list:\n",
    "        if len(i)>n:\n",
    "            result.append(i)\n",
    "    return result\n",
    "print(filter_long_words((\"preeti\",\"prakriti\",\"kirti\",\"eva\"),5))"
   ]
  },
  {
   "cell_type": "markdown",
   "metadata": {},
   "source": [
    "2.1 Write a Python program using function concept that maps  list of words into a list of integers representing the lengths of the corresponding words​. "
   ]
  },
  {
   "cell_type": "code",
   "execution_count": 7,
   "metadata": {},
   "outputs": [
    {
     "data": {
      "text/plain": [
       "[3, 3, 2, 6]"
      ]
     },
     "execution_count": 7,
     "metadata": {},
     "output_type": "execute_result"
    }
   ],
   "source": [
    "#uing map function\n",
    "x=['abc','xyz','pp','python']\n",
    "list(map(lambda n:len(n),x))\n",
    "\n",
    "#using for loop and function\n",
    "def len(list):\n",
    "    word_len=[]\n",
    "    for i in list:\n",
    "        word_len.append(len(i))\n",
    "    return word_len\n",
    "print(len(['abc','xyz','pp','python']))"
   ]
  },
  {
   "cell_type": "markdown",
   "metadata": {},
   "source": [
    "2.2 Write a Python function which takes a character (i.e. a string of length 1) and returns True if it is a vowel, False otherwise."
   ]
  },
  {
   "cell_type": "code",
   "execution_count": 8,
   "metadata": {},
   "outputs": [
    {
     "name": "stdout",
     "output_type": "stream",
     "text": [
      "False\n",
      "True\n"
     ]
    }
   ],
   "source": [
    "def vowel(ch):\n",
    "    if (ch=='a' or ch=='i' or ch=='e' or ch=='o' or ch=='u' or\n",
    "        ch=='A' or ch=='E' or ch=='I' or ch=='O' or ch=='U'):\n",
    "        return True\n",
    "    return False\n",
    "print(vowel('d'))\n",
    "print(vowel('o'))"
   ]
  },
  {
   "cell_type": "code",
   "execution_count": null,
   "metadata": {},
   "outputs": [],
   "source": []
  }
 ],
 "metadata": {
  "kernelspec": {
   "display_name": "Python 3",
   "language": "python",
   "name": "python3"
  },
  "language_info": {
   "codemirror_mode": {
    "name": "ipython",
    "version": 3
   },
   "file_extension": ".py",
   "mimetype": "text/x-python",
   "name": "python",
   "nbconvert_exporter": "python",
   "pygments_lexer": "ipython3",
   "version": "3.7.1"
  }
 },
 "nbformat": 4,
 "nbformat_minor": 2
}
